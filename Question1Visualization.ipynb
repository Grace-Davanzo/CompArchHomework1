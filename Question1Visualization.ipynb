{
 "cells": [
  {
   "cell_type": "markdown",
   "metadata": {},
   "source": [
    "# Homework 1\n",
    "\n",
    "We will be doing our experiments and calculations on an Ubuntu 24, Windows [insert type], and [insert Bradley's machine]."
   ]
  },
  {
   "cell_type": "code",
   "execution_count": 140,
   "metadata": {},
   "outputs": [],
   "source": [
    "import matplotlib.pyplot as pyplot\n",
    "import numpy as np\n",
    "import csv\n",
    "from scipy import stats as st"
   ]
  },
  {
   "cell_type": "markdown",
   "metadata": {},
   "source": [
    "## Visualization Functions\n",
    "\n",
    "Here are the generic versions of the helper functions we will use for data visualization."
   ]
  },
  {
   "cell_type": "code",
   "execution_count": 141,
   "metadata": {},
   "outputs": [],
   "source": [
    "def load_csv(byte_size):\n",
    "    filename = f\"memtest{byte_size}B.csv\"\n",
    "    with open(filename, mode='r') as file:\n",
    "        reader = csv.reader(file)\n",
    "        data = []\n",
    "        for row in reader:\n",
    "            data.append(int(row[0]))\n",
    "    return data\n"
   ]
  },
  {
   "cell_type": "code",
   "execution_count": 142,
   "metadata": {},
   "outputs": [],
   "source": [
    "def get_data_stats(data):\n",
    "    mean = sum(data)/len(data)\n",
    "    std = np.std(data)\n",
    "    mode = st.mode(data)\n",
    "    sorted_data = sorted(data)\n",
    "    \n",
    "    med = sorted_data[int(len(data)/2)+1]\n",
    "    return mean, med, mode, std"
   ]
  },
  {
   "cell_type": "code",
   "execution_count": 143,
   "metadata": {},
   "outputs": [],
   "source": [
    "def remove_outliers(data, within_std = 2):\n",
    "    mean, med, mode, std = get_data_stats(data)\n",
    "    cleaned_data = []\n",
    "    outliers = []\n",
    "    for d in data:\n",
    "        if d < mean + int(within_std*std) and d > mean - int(within_std*std):\n",
    "            cleaned_data.append(d)\n",
    "        else:\n",
    "            outliers.append(d)\n",
    "    return cleaned_data, outliers"
   ]
  },
  {
   "cell_type": "code",
   "execution_count": 144,
   "metadata": {},
   "outputs": [],
   "source": [
    "#Graph showing all samples over time, add way to limit sample number displayed and where starts\n",
    "def create_linear_sample_plot(data, byte_sizes, clean_outliers = True, first_sample = 0, sample_length = None):\n",
    "    \"\"\"Creates scatter plot of all clock cycles samples for a particular data block size.\n",
    "    Parameters: data - list(ints) \n",
    "    bytes_sizes - int\n",
    "    first sample (optional) - sample to start the graph\"\"\"\n",
    "    \n",
    "    if clean_outliers:\n",
    "        data, outliers = remove_outliers(data)\n",
    "    if sample_length is None:\n",
    "        sample_length = len(data)\n",
    "    data = data[first_sample:sample_length]\n",
    "    sample_count = range(first_sample+1,first_sample+sample_length+1,1)\n",
    "    \n",
    "    pyplot.scatter(sample_count,data)\n",
    "    \n",
    "    \n",
    "    pyplot.title('Clock Cycles to Copy %i Bytes' % byte_sizes)\n",
    "    pyplot.xlabel('Trial')\n",
    "    pyplot.ylabel('Clock Cycles')\n",
    "    pyplot.show()\n",
    "    return data, outliers"
   ]
  },
  {
   "cell_type": "code",
   "execution_count": 145,
   "metadata": {},
   "outputs": [],
   "source": [
    "def frequency_dictionary(data):\n",
    "    counts = {}\n",
    "    for d in data:\n",
    "        if d not in counts.keys():\n",
    "            counts[d] = 1\n",
    "        else:\n",
    "            counts[d] = counts[d] + 1\n",
    "    return counts"
   ]
  },
  {
   "cell_type": "code",
   "execution_count": 146,
   "metadata": {},
   "outputs": [],
   "source": [
    "def get_top_most_freq_clock_counts(data, top_n = 10):\n",
    "    counts = frequency_dictionary(data)\n",
    "    sorted_items = sorted(counts.items(), key=lambda item: item[1],reverse=True)\n",
    "\n",
    "    # Convert the sorted list of tuples back into a dictionary\n",
    "  \n",
    "    sorted_dict = dict(sorted_items[0:top_n])\n",
    "  \n",
    "   \n",
    "    return sorted_dict"
   ]
  },
  {
   "cell_type": "code",
   "execution_count": 172,
   "metadata": {},
   "outputs": [],
   "source": [
    "#Create histogram\n",
    "def create_histogram(data, byte_size, is_outliers = False, clean_outliers = True, within_std = 2):\n",
    "    outliers = []\n",
    "    cleaned_data = data\n",
    "    if clean_outliers:\n",
    "        cleaned_data, outliers = remove_outliers(data,within_std)\n",
    "    \n",
    "    \n",
    "    pyplot.hist(cleaned_data, bins='auto')\n",
    "    pyplot.title('Histogram of Clock Cycles for '+str(byte_size)+' Bytes with '+str(within_std)+' STD of the Mean')\n",
    "    if is_outliers:\n",
    "        pyplot.title('Histogram of Outlier Clock Cycles for '+str(byte_size)+' Bytes with '+str(within_std)+' STD of the Mean')\n",
    "    pyplot.xlabel('Clock Cycles')\n",
    "    pyplot.ylabel('Frequency')\n",
    "    pyplot.show()\n",
    "    return data, outliers"
   ]
  },
  {
   "cell_type": "code",
   "execution_count": 173,
   "metadata": {},
   "outputs": [],
   "source": [
    "def produce_stats(byte_size):\n",
    "    data = load_csv(byte_size)\n",
    "    cleaned_data, outliers = create_linear_sample_plot(data,byte_size)\n",
    "    cleaned_histo_data, histo_outliers = create_histogram(data,byte_size,is_outliers = False, clean_outliers = True, within_std = 2)\n",
    "    d, o = create_histogram(histo_outliers,byte_size,is_outliers = True, clean_outliers = False, within_std = 2)\n",
    "    cleaned_histo_data, histo_outliers = create_histogram(data,byte_size,is_outliers = False, clean_outliers = True, within_std = 1)\n",
    "    d, o = create_histogram(histo_outliers,byte_size,is_outliers = True, clean_outliers = False, within_std = 1)\n",
    "    cleaned_histo_data, histo_outliers = create_histogram(data,byte_size,is_outliers = False, clean_outliers = True, within_std = 0.4)\n",
    "    d, o = create_histogram(histo_outliers,byte_size,is_outliers = True, clean_outliers = False, within_std = 0.4)\n",
    "    avg, med, mode, std = get_data_stats(data)\n",
    "    print(\"Stats for \"+str(byte_size)+\" \")\n",
    "    print(\"Mean: \"+str(avg))\n",
    "    print(\"Median: \"+str(med))\n",
    "    print(\"Mode: \"+str(mode[0]))\n",
    "    print(\"Standard Deviation: \"+str(std))\n",
    "    d = get_top_most_freq_clock_counts(data,10)\n",
    "    print(\"Top Ten Most Common Clock Cycles for \"+str(byte_size)+\" bytes copied: \"+str(d))"
   ]
  },
  {
   "cell_type": "markdown",
   "metadata": {},
   "source": [
    "## Ubuntu 24\n",
    "### Question 1\n",
    "#### 64 Bytes of data copied"
   ]
  },
  {
   "cell_type": "code",
   "execution_count": null,
   "metadata": {},
   "outputs": [],
   "source": [
    "produce_stats(64)"
   ]
  },
  {
   "cell_type": "markdown",
   "metadata": {},
   "source": [
    "#### 128 bytes"
   ]
  },
  {
   "cell_type": "code",
   "execution_count": null,
   "metadata": {},
   "outputs": [],
   "source": [
    "produce_stats(128)"
   ]
  },
  {
   "cell_type": "markdown",
   "metadata": {},
   "source": [
    "#### 256 Bytes"
   ]
  },
  {
   "cell_type": "code",
   "execution_count": null,
   "metadata": {},
   "outputs": [],
   "source": [
    "produce_stats(256)"
   ]
  },
  {
   "cell_type": "markdown",
   "metadata": {},
   "source": [
    "#### 512 Bytes"
   ]
  },
  {
   "cell_type": "code",
   "execution_count": null,
   "metadata": {},
   "outputs": [],
   "source": [
    "produce_stats(512)"
   ]
  },
  {
   "cell_type": "markdown",
   "metadata": {},
   "source": [
    "#### 1024 Bytes"
   ]
  },
  {
   "cell_type": "code",
   "execution_count": null,
   "metadata": {},
   "outputs": [],
   "source": [
    "produce_stats(1024)"
   ]
  },
  {
   "cell_type": "markdown",
   "metadata": {},
   "source": [
    "#### 2048 Bytes"
   ]
  },
  {
   "cell_type": "code",
   "execution_count": null,
   "metadata": {},
   "outputs": [],
   "source": [
    "produce_stats(2048)"
   ]
  },
  {
   "cell_type": "markdown",
   "metadata": {},
   "source": [
    "#### 4096 Bytes"
   ]
  },
  {
   "cell_type": "code",
   "execution_count": null,
   "metadata": {},
   "outputs": [],
   "source": [
    "produce_stats(4096)"
   ]
  },
  {
   "cell_type": "markdown",
   "metadata": {},
   "source": [
    "#### 8192 Bytes"
   ]
  },
  {
   "cell_type": "code",
   "execution_count": null,
   "metadata": {},
   "outputs": [],
   "source": [
    "produce_stats(8192)"
   ]
  },
  {
   "cell_type": "markdown",
   "metadata": {},
   "source": [
    "#### 16384 Bytes"
   ]
  },
  {
   "cell_type": "code",
   "execution_count": null,
   "metadata": {},
   "outputs": [],
   "source": [
    "produce_stats(16384)"
   ]
  },
  {
   "cell_type": "markdown",
   "metadata": {},
   "source": [
    "#### 32768 Bytes"
   ]
  },
  {
   "cell_type": "code",
   "execution_count": null,
   "metadata": {},
   "outputs": [],
   "source": [
    "produce_stats(32768)"
   ]
  },
  {
   "cell_type": "markdown",
   "metadata": {},
   "source": [
    "#### 65,536 Bytes"
   ]
  },
  {
   "cell_type": "code",
   "execution_count": null,
   "metadata": {},
   "outputs": [],
   "source": [
    "produce_stats(65536)"
   ]
  },
  {
   "cell_type": "markdown",
   "metadata": {},
   "source": [
    "#### 1,048,576 Bytes"
   ]
  },
  {
   "cell_type": "code",
   "execution_count": null,
   "metadata": {},
   "outputs": [],
   "source": [
    "produce_stats(1048576)"
   ]
  },
  {
   "cell_type": "markdown",
   "metadata": {},
   "source": [
    "#### 2,097,152 Bytes"
   ]
  },
  {
   "cell_type": "code",
   "execution_count": null,
   "metadata": {},
   "outputs": [],
   "source": [
    "produce_stats(2097152)"
   ]
  },
  {
   "cell_type": "markdown",
   "metadata": {},
   "source": [
    "### Question 2"
   ]
  },
  {
   "cell_type": "markdown",
   "metadata": {},
   "source": [
    "Machine 1 (CloudLab): <br>\n",
    "    DRAM name: HP 855506-091 <br>\n",
    "    Frequency = 2400MHz <br>\n",
    "    tRCD = 17 <br>\n",
    "    tRP = 17 <br>\n",
    "    tCAS/tCL = 17 <br>\n",
    "    tRC = tRAS + tRP = 56 <br>\n",
    "    tRAS = 39 <br>\n",
    "    tRRD = <br>\n",
    "    tWR = <br>\n",
    "    tWTR = <br>\n",
    "    tCWD = <br>\n",
    "    tRTP = <br>\n",
    "    tCCD = <br>\n",
    "    tBURST = <br>\n"
   ]
  },
  {
   "cell_type": "markdown",
   "metadata": {},
   "source": [
    "Machine 2 (Bradley's Laptop - Dell Inspiron 15): <br>\n",
    "    Frequency: 1600MHz <br>\n",
    "    tRCD = 22 <br>\n",
    "    tRP = 22 <br>\n",
    "    tCAS/tCL = 22 <br>\n",
    "    tRC = tRAS + tRP = 74 <br>\n",
    "    tRAS = 52 <br>\n",
    "    tRRD = <br>\n",
    "    tWR = <br>\n",
    "    tWTR = <br>\n",
    "    tCWD = <br>\n",
    "    tRTP = <br>\n",
    "    tCCD = <br>\n",
    "    tBURST = <br>\n"
   ]
  },
  {
   "cell_type": "markdown",
   "metadata": {},
   "source": [
    "### Question 3"
   ]
  }
 ],
 "metadata": {
  "kernelspec": {
   "display_name": ".venv",
   "language": "python",
   "name": "python3"
  },
  "language_info": {
   "codemirror_mode": {
    "name": "ipython",
    "version": 3
   },
   "file_extension": ".py",
   "mimetype": "text/x-python",
   "name": "python",
   "nbconvert_exporter": "python",
   "pygments_lexer": "ipython3",
   "version": "3.11.3"
  }
 },
 "nbformat": 4,
 "nbformat_minor": 2
}
